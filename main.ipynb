{
 "cells": [
  {
   "cell_type": "code",
   "execution_count": null,
   "id": "c17ab18c",
   "metadata": {},
   "outputs": [],
   "source": [
    "import pandas as pd\n",
    "import matplotlib.pyplot as plt\n",
    "import seaborn as sns\n"
   ]
  },
  {
   "cell_type": "code",
   "execution_count": 13,
   "id": "8967e953",
   "metadata": {},
   "outputs": [],
   "source": [
    "df_sentiment = pd.read_csv(r\"C:\\Users\\ssgir\\OneDrive\\Desktop\\Internships\\Primetrade.ai\\DS_SSG\\csv_files\\fear_greed_index.csv\")\n",
    "df_trades = pd.read_csv(r\"C:\\Users\\ssgir\\OneDrive\\Desktop\\Internships\\Primetrade.ai\\DS_SSG\\csv_files\\historical_data.csv\")"
   ]
  },
  {
   "cell_type": "code",
   "execution_count": 14,
   "id": "4da790d7",
   "metadata": {},
   "outputs": [
    {
     "name": "stdout",
     "output_type": "stream",
     "text": [
      "=== Trader Data Info ===\n",
      "<class 'pandas.core.frame.DataFrame'>\n",
      "RangeIndex: 211224 entries, 0 to 211223\n",
      "Data columns (total 16 columns):\n",
      " #   Column            Non-Null Count   Dtype  \n",
      "---  ------            --------------   -----  \n",
      " 0   Account           211224 non-null  object \n",
      " 1   Coin              211224 non-null  object \n",
      " 2   Execution Price   211224 non-null  float64\n",
      " 3   Size Tokens       211224 non-null  float64\n",
      " 4   Size USD          211224 non-null  float64\n",
      " 5   Side              211224 non-null  object \n",
      " 6   Timestamp IST     211224 non-null  object \n",
      " 7   Start Position    211224 non-null  float64\n",
      " 8   Direction         211224 non-null  object \n",
      " 9   Closed PnL        211224 non-null  float64\n",
      " 10  Transaction Hash  211224 non-null  object \n",
      " 11  Order ID          211224 non-null  int64  \n",
      " 12  Crossed           211224 non-null  bool   \n",
      " 13  Fee               211224 non-null  float64\n",
      " 14  Trade ID          211224 non-null  float64\n",
      " 15  Timestamp         211224 non-null  float64\n",
      "dtypes: bool(1), float64(8), int64(1), object(6)\n",
      "memory usage: 24.4+ MB\n",
      "None\n",
      "\n",
      "=== First 5 rows of Trader Data ===\n",
      "                                      Account  Coin  Execution Price  \\\n",
      "0  0xae5eacaf9c6b9111fd53034a602c192a04e082ed  @107           7.9769   \n",
      "1  0xae5eacaf9c6b9111fd53034a602c192a04e082ed  @107           7.9800   \n",
      "2  0xae5eacaf9c6b9111fd53034a602c192a04e082ed  @107           7.9855   \n",
      "3  0xae5eacaf9c6b9111fd53034a602c192a04e082ed  @107           7.9874   \n",
      "4  0xae5eacaf9c6b9111fd53034a602c192a04e082ed  @107           7.9894   \n",
      "\n",
      "   Size Tokens  Size USD Side     Timestamp IST  Start Position Direction  \\\n",
      "0       986.87   7872.16  BUY  02-12-2024 22:50        0.000000       Buy   \n",
      "1        16.00    127.68  BUY  02-12-2024 22:50      986.524596       Buy   \n",
      "2       144.09   1150.63  BUY  02-12-2024 22:50     1002.518996       Buy   \n",
      "3       142.98   1142.04  BUY  02-12-2024 22:50     1146.558564       Buy   \n",
      "4         8.73     69.75  BUY  02-12-2024 22:50     1289.488521       Buy   \n",
      "\n",
      "   Closed PnL                                   Transaction Hash     Order ID  \\\n",
      "0         0.0  0xec09451986a1874e3a980418412fcd0201f500c95bac...  52017706630   \n",
      "1         0.0  0xec09451986a1874e3a980418412fcd0201f500c95bac...  52017706630   \n",
      "2         0.0  0xec09451986a1874e3a980418412fcd0201f500c95bac...  52017706630   \n",
      "3         0.0  0xec09451986a1874e3a980418412fcd0201f500c95bac...  52017706630   \n",
      "4         0.0  0xec09451986a1874e3a980418412fcd0201f500c95bac...  52017706630   \n",
      "\n",
      "   Crossed       Fee      Trade ID     Timestamp  \n",
      "0     True  0.345404  8.950000e+14  1.730000e+12  \n",
      "1     True  0.005600  4.430000e+14  1.730000e+12  \n",
      "2     True  0.050431  6.600000e+14  1.730000e+12  \n",
      "3     True  0.050043  1.080000e+15  1.730000e+12  \n",
      "4     True  0.003055  1.050000e+15  1.730000e+12  \n",
      "\n",
      "=== Sentiment Data Info ===\n",
      "<class 'pandas.core.frame.DataFrame'>\n",
      "RangeIndex: 2644 entries, 0 to 2643\n",
      "Data columns (total 4 columns):\n",
      " #   Column          Non-Null Count  Dtype \n",
      "---  ------          --------------  ----- \n",
      " 0   timestamp       2644 non-null   int64 \n",
      " 1   value           2644 non-null   int64 \n",
      " 2   classification  2644 non-null   object\n",
      " 3   date            2644 non-null   object\n",
      "dtypes: int64(2), object(2)\n",
      "memory usage: 82.8+ KB\n",
      "None\n",
      "\n",
      "=== First 5 rows of Sentiment Data ===\n",
      "    timestamp  value classification        date\n",
      "0  1517463000     30           Fear  2018-02-01\n",
      "1  1517549400     15   Extreme Fear  2018-02-02\n",
      "2  1517635800     40           Fear  2018-02-03\n",
      "3  1517722200     24   Extreme Fear  2018-02-04\n",
      "4  1517808600     11   Extreme Fear  2018-02-05\n"
     ]
    }
   ],
   "source": [
    "print(\"=== Trader Data Info ===\")\n",
    "print(df_trades.info())\n",
    "print(\"\\n=== First 5 rows of Trader Data ===\")\n",
    "print(df_trades.head())\n",
    "\n",
    "print(\"\\n=== Sentiment Data Info ===\")\n",
    "print(df_sentiment.info())\n",
    "print(\"\\n=== First 5 rows of Sentiment Data ===\")\n",
    "print(df_sentiment.head())\n"
   ]
  },
  {
   "cell_type": "code",
   "execution_count": 15,
   "id": "b56d524e",
   "metadata": {},
   "outputs": [
    {
     "name": "stdout",
     "output_type": "stream",
     "text": [
      "\n",
      "Missing values in Trader Data:\n",
      "Account             0\n",
      "Coin                0\n",
      "Execution Price     0\n",
      "Size Tokens         0\n",
      "Size USD            0\n",
      "Side                0\n",
      "Timestamp IST       0\n",
      "Start Position      0\n",
      "Direction           0\n",
      "Closed PnL          0\n",
      "Transaction Hash    0\n",
      "Order ID            0\n",
      "Crossed             0\n",
      "Fee                 0\n",
      "Trade ID            0\n",
      "Timestamp           0\n",
      "dtype: int64\n",
      "\n",
      "Missing values in Sentiment Data:\n",
      "timestamp         0\n",
      "value             0\n",
      "classification    0\n",
      "date              0\n",
      "dtype: int64\n"
     ]
    }
   ],
   "source": [
    "print(\"\\nMissing values in Trader Data:\")\n",
    "print(df_trades.isnull().sum())\n",
    "\n",
    "print(\"\\nMissing values in Sentiment Data:\")\n",
    "print(df_sentiment.isnull().sum())\n"
   ]
  },
  {
   "cell_type": "code",
   "execution_count": 19,
   "id": "f02c1872",
   "metadata": {},
   "outputs": [
    {
     "name": "stdout",
     "output_type": "stream",
     "text": [
      "\n",
      "Unique Sentiment Classifications:\n",
      "['Fear' 'Extreme Fear' 'Neutral' 'Greed' 'Extreme Greed']\n",
      "\n",
      "Unique Symbols in Trades:\n",
      "['@107' 'AAVE' 'DYDX' 'AIXBT' 'GMX' 'EIGEN' 'HYPE' 'SOL' 'SUI' 'DOGE']\n"
     ]
    }
   ],
   "source": [
    "print(\"\\nUnique Sentiment Classifications:\")\n",
    "print(df_sentiment['classification'].unique())\n",
    "\n",
    "print(\"\\nUnique Symbols in Trades:\")\n",
    "print(df_trades['Coin'].unique()[:10])  # show first 10\n"
   ]
  },
  {
   "cell_type": "code",
   "execution_count": 22,
   "id": "3a31082a",
   "metadata": {},
   "outputs": [
    {
     "data": {
      "text/plain": [
       "Coin\n",
       "HYPE         68005\n",
       "@107         29992\n",
       "BTC          26064\n",
       "ETH          11158\n",
       "SOL          10691\n",
       "FARTCOIN      4650\n",
       "MELANIA       4428\n",
       "PURR/USDC     2774\n",
       "WLD           1983\n",
       "SUI           1979\n",
       "Name: count, dtype: int64"
      ]
     },
     "execution_count": 22,
     "metadata": {},
     "output_type": "execute_result"
    }
   ],
   "source": [
    "df_trades['Coin'].value_counts()[:10]\n"
   ]
  },
  {
   "cell_type": "code",
   "execution_count": 23,
   "id": "9392ced8",
   "metadata": {},
   "outputs": [],
   "source": [
    "df_trades.columns = df_trades.columns.str.lower().str.replace(\" \", \"_\")\n",
    "df_sentiment.columns = df_sentiment.columns.str.lower().str.replace(\" \", \"_\")\n"
   ]
  },
  {
   "cell_type": "code",
   "execution_count": 25,
   "id": "6c6036c5",
   "metadata": {},
   "outputs": [
    {
     "name": "stdout",
     "output_type": "stream",
     "text": [
      "trade cols:Index(['account', 'coin', 'execution_price', 'size_tokens', 'size_usd', 'side',\n",
      "       'timestamp_ist', 'start_position', 'direction', 'closed_pnl',\n",
      "       'transaction_hash', 'order_id', 'crossed', 'fee', 'trade_id',\n",
      "       'timestamp'],\n",
      "      dtype='object') \n",
      " sent cols:Index(['timestamp', 'value', 'classification', 'date'], dtype='object')\n"
     ]
    }
   ],
   "source": [
    "print(f\"trade cols:{df_trades.columns} \\n sent cols:{df_sentiment.columns}\")"
   ]
  },
  {
   "cell_type": "code",
   "execution_count": 45,
   "id": "78a380e1",
   "metadata": {},
   "outputs": [],
   "source": [
    "# Convert IST timestamp to datetime\n",
    "df_trades['timestamp_ist'] = pd.to_datetime(df_trades['timestamp_ist'], format='%d-%m-%Y %H:%M', errors='coerce')\n",
    "df_trades['trade_date'] = df_trades['timestamp_ist'].dt.date\n"
   ]
  },
  {
   "cell_type": "code",
   "execution_count": 46,
   "id": "296d8836",
   "metadata": {},
   "outputs": [
    {
     "data": {
      "text/html": [
       "<div>\n",
       "<style scoped>\n",
       "    .dataframe tbody tr th:only-of-type {\n",
       "        vertical-align: middle;\n",
       "    }\n",
       "\n",
       "    .dataframe tbody tr th {\n",
       "        vertical-align: top;\n",
       "    }\n",
       "\n",
       "    .dataframe thead th {\n",
       "        text-align: right;\n",
       "    }\n",
       "</style>\n",
       "<table border=\"1\" class=\"dataframe\">\n",
       "  <thead>\n",
       "    <tr style=\"text-align: right;\">\n",
       "      <th></th>\n",
       "      <th>timestamp</th>\n",
       "      <th>trade_date</th>\n",
       "    </tr>\n",
       "  </thead>\n",
       "  <tbody>\n",
       "    <tr>\n",
       "      <th>0</th>\n",
       "      <td>1970-01-01 00:28:50</td>\n",
       "      <td>2024-12-02</td>\n",
       "    </tr>\n",
       "    <tr>\n",
       "      <th>1</th>\n",
       "      <td>1970-01-01 00:28:50</td>\n",
       "      <td>2024-12-02</td>\n",
       "    </tr>\n",
       "    <tr>\n",
       "      <th>2</th>\n",
       "      <td>1970-01-01 00:28:50</td>\n",
       "      <td>2024-12-02</td>\n",
       "    </tr>\n",
       "    <tr>\n",
       "      <th>3</th>\n",
       "      <td>1970-01-01 00:28:50</td>\n",
       "      <td>2024-12-02</td>\n",
       "    </tr>\n",
       "    <tr>\n",
       "      <th>4</th>\n",
       "      <td>1970-01-01 00:28:50</td>\n",
       "      <td>2024-12-02</td>\n",
       "    </tr>\n",
       "  </tbody>\n",
       "</table>\n",
       "</div>"
      ],
      "text/plain": [
       "            timestamp  trade_date\n",
       "0 1970-01-01 00:28:50  2024-12-02\n",
       "1 1970-01-01 00:28:50  2024-12-02\n",
       "2 1970-01-01 00:28:50  2024-12-02\n",
       "3 1970-01-01 00:28:50  2024-12-02\n",
       "4 1970-01-01 00:28:50  2024-12-02"
      ]
     },
     "execution_count": 46,
     "metadata": {},
     "output_type": "execute_result"
    }
   ],
   "source": [
    "df_trades[['timestamp', 'trade_date']].head()\n"
   ]
  },
  {
   "cell_type": "code",
   "execution_count": 41,
   "id": "021e0c6c",
   "metadata": {},
   "outputs": [
    {
     "name": "stderr",
     "output_type": "stream",
     "text": [
      "C:\\Users\\ssgir\\AppData\\Local\\Temp\\ipykernel_13472\\776845317.py:2: SettingWithCopyWarning: \n",
      "A value is trying to be set on a copy of a slice from a DataFrame.\n",
      "Try using .loc[row_indexer,col_indexer] = value instead\n",
      "\n",
      "See the caveats in the documentation: https://pandas.pydata.org/pandas-docs/stable/user_guide/indexing.html#returning-a-view-versus-a-copy\n",
      "  df_sentiment['sentiment_date'] = df_sentiment['date'].dt.date\n"
     ]
    }
   ],
   "source": [
    "df_trades['trade_date'] = df_trades['timestamp'].dt.date\n",
    "df_sentiment['sentiment_date'] = df_sentiment['date'].dt.date\n"
   ]
  },
  {
   "cell_type": "code",
   "execution_count": 42,
   "id": "48d3d65a",
   "metadata": {},
   "outputs": [
    {
     "name": "stdout",
     "output_type": "stream",
     "text": [
      "Before cleaning: ['Fear' 'Greed']\n",
      "After cleaning: ['Fear' 'Greed']\n"
     ]
    },
    {
     "name": "stderr",
     "output_type": "stream",
     "text": [
      "C:\\Users\\ssgir\\AppData\\Local\\Temp\\ipykernel_13472\\3730082049.py:4: SettingWithCopyWarning: \n",
      "A value is trying to be set on a copy of a slice from a DataFrame.\n",
      "Try using .loc[row_indexer,col_indexer] = value instead\n",
      "\n",
      "See the caveats in the documentation: https://pandas.pydata.org/pandas-docs/stable/user_guide/indexing.html#returning-a-view-versus-a-copy\n",
      "  df_sentiment['classification'] = (\n"
     ]
    }
   ],
   "source": [
    "\n",
    "print(\"Before cleaning:\", df_sentiment['classification'].unique())\n",
    "\n",
    "\n",
    "df_sentiment['classification'] = (\n",
    "    df_sentiment['classification']\n",
    "    .str.strip()         \n",
    "    .str.lower()         \n",
    "    .str.capitalize()   \n",
    ")\n",
    "\n",
    "\n",
    "print(\"After cleaning:\", df_sentiment['classification'].unique())\n"
   ]
  },
  {
   "cell_type": "code",
   "execution_count": 43,
   "id": "9be17857",
   "metadata": {},
   "outputs": [
    {
     "name": "stdout",
     "output_type": "stream",
     "text": [
      "classification\n",
      "Fear     1289\n",
      "Greed     959\n",
      "Name: count, dtype: int64\n"
     ]
    },
    {
     "name": "stderr",
     "output_type": "stream",
     "text": [
      "C:\\Users\\ssgir\\AppData\\Local\\Temp\\ipykernel_13472\\544344874.py:10: SettingWithCopyWarning: \n",
      "A value is trying to be set on a copy of a slice from a DataFrame.\n",
      "Try using .loc[row_indexer,col_indexer] = value instead\n",
      "\n",
      "See the caveats in the documentation: https://pandas.pydata.org/pandas-docs/stable/user_guide/indexing.html#returning-a-view-versus-a-copy\n",
      "  df_sentiment['classification'] = df_sentiment['classification'].apply(simplify_sentiment)\n"
     ]
    }
   ],
   "source": [
    "def simplify_sentiment(x):\n",
    "    x = x.lower()\n",
    "    if \"fear\" in x:\n",
    "        return \"Fear\"\n",
    "    elif \"greed\" in x:\n",
    "        return \"Greed\"\n",
    "    else:\n",
    "        return None  # Droping Neutral or any other category\n",
    "\n",
    "df_sentiment['classification'] = df_sentiment['classification'].apply(simplify_sentiment)\n",
    "\n",
    "\n",
    "df_sentiment = df_sentiment.dropna(subset=['classification'])\n",
    "\n",
    "print(df_sentiment['classification'].value_counts())\n"
   ]
  },
  {
   "cell_type": "code",
   "execution_count": 48,
   "id": "75dc6832",
   "metadata": {},
   "outputs": [
    {
     "name": "stdout",
     "output_type": "stream",
     "text": [
      "                                      account  coin  execution_price  \\\n",
      "0  0xae5eacaf9c6b9111fd53034a602c192a04e082ed  @107           7.9769   \n",
      "1  0xae5eacaf9c6b9111fd53034a602c192a04e082ed  @107           7.9800   \n",
      "2  0xae5eacaf9c6b9111fd53034a602c192a04e082ed  @107           7.9855   \n",
      "3  0xae5eacaf9c6b9111fd53034a602c192a04e082ed  @107           7.9874   \n",
      "4  0xae5eacaf9c6b9111fd53034a602c192a04e082ed  @107           7.9894   \n",
      "\n",
      "   size_tokens  size_usd side       timestamp_ist  start_position direction  \\\n",
      "0       986.87   7872.16  BUY 2024-12-02 22:50:00        0.000000       Buy   \n",
      "1        16.00    127.68  BUY 2024-12-02 22:50:00      986.524596       Buy   \n",
      "2       144.09   1150.63  BUY 2024-12-02 22:50:00     1002.518996       Buy   \n",
      "3       142.98   1142.04  BUY 2024-12-02 22:50:00     1146.558564       Buy   \n",
      "4         8.73     69.75  BUY 2024-12-02 22:50:00     1289.488521       Buy   \n",
      "\n",
      "   closed_pnl                                   transaction_hash     order_id  \\\n",
      "0         0.0  0xec09451986a1874e3a980418412fcd0201f500c95bac...  52017706630   \n",
      "1         0.0  0xec09451986a1874e3a980418412fcd0201f500c95bac...  52017706630   \n",
      "2         0.0  0xec09451986a1874e3a980418412fcd0201f500c95bac...  52017706630   \n",
      "3         0.0  0xec09451986a1874e3a980418412fcd0201f500c95bac...  52017706630   \n",
      "4         0.0  0xec09451986a1874e3a980418412fcd0201f500c95bac...  52017706630   \n",
      "\n",
      "   crossed       fee      trade_id           timestamp  trade_date  \\\n",
      "0     True  0.345404  8.950000e+14 1970-01-01 00:28:50  2024-12-02   \n",
      "1     True  0.005600  4.430000e+14 1970-01-01 00:28:50  2024-12-02   \n",
      "2     True  0.050431  6.600000e+14 1970-01-01 00:28:50  2024-12-02   \n",
      "3     True  0.050043  1.080000e+15 1970-01-01 00:28:50  2024-12-02   \n",
      "4     True  0.003055  1.050000e+15 1970-01-01 00:28:50  2024-12-02   \n",
      "\n",
      "  sentiment_date classification  \n",
      "0     2024-12-02          Greed  \n",
      "1     2024-12-02          Greed  \n",
      "2     2024-12-02          Greed  \n",
      "3     2024-12-02          Greed  \n",
      "4     2024-12-02          Greed  \n",
      "Trades without sentiment data: 37692\n"
     ]
    }
   ],
   "source": [
    "df_merged = df_trades.merge(\n",
    "    df_sentiment[['sentiment_date', 'classification']],\n",
    "    left_on='trade_date',\n",
    "    right_on='sentiment_date',\n",
    "    how='left'\n",
    ")\n",
    "\n",
    "print(df_merged.head())\n",
    "print(\"Trades without sentiment data:\", df_merged['classification'].isna().sum())\n"
   ]
  },
  {
   "cell_type": "code",
   "execution_count": 49,
   "id": "c945cc48",
   "metadata": {},
   "outputs": [],
   "source": [
    "df_merged = df_merged.dropna(subset=['classification'])\n"
   ]
  },
  {
   "cell_type": "code",
   "execution_count": 50,
   "id": "f0c0131b",
   "metadata": {},
   "outputs": [],
   "source": [
    "\n",
    "df_analysis = df_merged.dropna(subset=['classification'])\n"
   ]
  },
  {
   "cell_type": "code",
   "execution_count": 54,
   "id": "381535e1",
   "metadata": {},
   "outputs": [
    {
     "name": "stdout",
     "output_type": "stream",
     "text": [
      "  classification    closed_pnl\n",
      "0           Fear  4.096266e+06\n",
      "1          Greed  4.865301e+06\n",
      "  classification  win_rate_percent\n",
      "0           Fear          40.78715\n",
      "1          Greed          42.03112\n"
     ]
    },
    {
     "name": "stderr",
     "output_type": "stream",
     "text": [
      "C:\\Users\\ssgir\\AppData\\Local\\Temp\\ipykernel_13472\\3894929013.py:6: DeprecationWarning: DataFrameGroupBy.apply operated on the grouping columns. This behavior is deprecated, and in a future version of pandas the grouping columns will be excluded from the operation. Either pass `include_groups=False` to exclude the groupings or explicitly select the grouping columns after groupby to silence this warning.\n",
      "  win_rate = df_analysis.groupby('classification').apply(\n"
     ]
    },
    {
     "data": {
      "image/png": "[encoded data removed]",
      "text/plain": [
       "<Figure size 800x500 with 1 Axes>"
      ]
     },
     "metadata": {},
     "output_type": "display_data"
    }
   ],
   "source": [
    "# Total PnL per sentiment\n",
    "total_pnl = df_analysis.groupby('classification')['closed_pnl'].sum().reset_index()\n",
    "print(total_pnl)\n",
    "\n",
    "# % profitable trades per sentiment\n",
    "win_rate = df_analysis.groupby('classification').apply(\n",
    "    lambda x: (x['closed_pnl'] > 0).mean() * 100\n",
    ").reset_index(name='win_rate_percent')\n",
    "print(win_rate)\n",
    "\n",
    "# Distribution plot\n",
    "import seaborn as sns\n",
    "import matplotlib.pyplot as plt\n",
    "\n",
    "plt.figure(figsize=(8,5))\n",
    "sns.histplot(data=df_analysis, x='closed_pnl', hue='classification', bins=100, kde=True)\n",
    "plt.xlim(-5000, 5000)  # zoom in to see detail\n",
    "plt.title('PnL Distribution by Sentiment')\n",
    "plt.xlabel('Closed PnL')\n",
    "plt.ylabel('Trade Count')\n",
    "plt.savefig('outputs/pnl_distribution.png', bbox_inches='tight')\n",
    "plt.show()\n"
   ]
  },
  {
   "cell_type": "code",
   "execution_count": 55,
   "id": "4afe10bf",
   "metadata": {},
   "outputs": [
    {
     "name": "stdout",
     "output_type": "stream",
     "text": [
      "  classification     size_usd\n",
      "0           Fear  7182.011019\n",
      "1          Greed  4574.424490\n",
      "  classification    size_usd\n",
      "0           Fear  3921430.72\n",
      "1          Greed  2227114.71\n",
      "  classification      size_usd\n",
      "0           Fear  5.978091e+08\n",
      "1          Greed  4.130477e+08\n"
     ]
    },
    {
     "name": "stderr",
     "output_type": "stream",
     "text": [
      "C:\\Users\\ssgir\\AppData\\Local\\Temp\\ipykernel_13472\\3268392632.py:18: FutureWarning: \n",
      "\n",
      "Passing `palette` without assigning `hue` is deprecated and will be removed in v0.14.0. Assign the `x` variable to `hue` and set `legend=False` for the same effect.\n",
      "\n",
      "  sns.barplot(data=avg_size_usd, x='classification', y='size_usd', palette='coolwarm')\n"
     ]
    },
    {
     "data": {
      "image/png": "[encoded data removed]",
      "text/plain": [
       "<Figure size 600x400 with 1 Axes>"
      ]
     },
     "metadata": {},
     "output_type": "display_data"
    }
   ],
   "source": [
    "# Average trade size in USD per sentiment\n",
    "avg_size_usd = df_analysis.groupby('classification')['size_usd'].mean().reset_index()\n",
    "print(avg_size_usd)\n",
    "\n",
    "# Max trade size in USD per sentiment\n",
    "max_size_usd = df_analysis.groupby('classification')['size_usd'].max().reset_index()\n",
    "print(max_size_usd)\n",
    "\n",
    "# Volume per sentiment (total USD traded)\n",
    "total_volume_usd = df_analysis.groupby('classification')['size_usd'].sum().reset_index()\n",
    "print(total_volume_usd)\n",
    "\n",
    "# Visualization: Avg trade size\n",
    "import matplotlib.pyplot as plt\n",
    "import seaborn as sns\n",
    "\n",
    "plt.figure(figsize=(6,4))\n",
    "sns.barplot(data=avg_size_usd, x='classification', y='size_usd', palette='coolwarm')\n",
    "plt.title('Average Trade Size (USD) by Sentiment')\n",
    "plt.ylabel('Average Trade Size (USD)')\n",
    "plt.xlabel('Sentiment')\n",
    "plt.savefig('outputs/avg_trade_size_by_sentiment.png', bbox_inches='tight')\n",
    "plt.show()\n"
   ]
  },
  {
   "cell_type": "code",
   "execution_count": 56,
   "id": "bd042371",
   "metadata": {},
   "outputs": [
    {
     "name": "stdout",
     "output_type": "stream",
     "text": [
      "       coin classification   closed_pnl\n",
      "261    PNUT           Fear  1855.649224\n",
      "288     SEI           Fear   835.600000\n",
      "163     ENA           Fear   766.994635\n",
      "155    DOGE           Fear   564.812222\n",
      "122     ARB           Fear   424.584921\n",
      "259  PEOPLE          Greed   360.646005\n",
      "9      @109          Greed   338.348370\n",
      "319   USUAL           Fear   335.304613\n",
      "161   EIGEN           Fear   295.631911\n",
      "96      @85          Greed   288.110217\n"
     ]
    }
   ],
   "source": [
    "coin_pnl = df_analysis.groupby(['coin', 'classification'])['closed_pnl'].mean().reset_index()\n",
    "coin_pnl = coin_pnl.sort_values(by='closed_pnl', ascending=False)\n",
    "print(coin_pnl.head(10))\n",
    "\n"
   ]
  },
  {
   "cell_type": "code",
   "execution_count": 57,
   "id": "17fa0ddc",
   "metadata": {},
   "outputs": [
    {
     "name": "stdout",
     "output_type": "stream",
     "text": [
      "     coin classification      size_usd\n",
      "144   BTC           Fear  3.376637e+08\n",
      "145   BTC          Greed  2.081817e+08\n",
      "194  HYPE           Fear  9.258071e+07\n",
      "291   SOL           Fear  7.806587e+07\n",
      "168   ETH          Greed  5.333520e+07\n",
      "167   ETH           Fear  4.735540e+07\n",
      "7    @107          Greed  3.737656e+07\n",
      "292   SOL          Greed  3.089014e+07\n",
      "195  HYPE          Greed  2.183851e+07\n",
      "6    @107           Fear  1.066663e+07\n"
     ]
    }
   ],
   "source": [
    "coin_volume = df_analysis.groupby(['coin', 'classification'])['size_usd'].sum().reset_index()\n",
    "coin_volume = coin_volume.sort_values(by='size_usd', ascending=False)\n",
    "print(coin_volume.head(10))\n"
   ]
  },
  {
   "cell_type": "code",
   "execution_count": 58,
   "id": "5a9e2a1b",
   "metadata": {},
   "outputs": [
    {
     "name": "stderr",
     "output_type": "stream",
     "text": [
      "C:\\Users\\ssgir\\AppData\\Local\\Temp\\ipykernel_13472\\1949546776.py:6: FutureWarning: \n",
      "\n",
      "Passing `palette` without assigning `hue` is deprecated and will be removed in v0.14.0. Assign the `y` variable to `hue` and set `legend=False` for the same effect.\n",
      "\n",
      "  sns.barplot(ax=axes[0], data=top10_fear, x='size_usd', y='coin', palette='Blues_r')\n",
      "C:\\Users\\ssgir\\AppData\\Local\\Temp\\ipykernel_13472\\1949546776.py:10: FutureWarning: \n",
      "\n",
      "Passing `palette` without assigning `hue` is deprecated and will be removed in v0.14.0. Assign the `y` variable to `hue` and set `legend=False` for the same effect.\n",
      "\n",
      "  sns.barplot(ax=axes[1], data=top10_greed, x='size_usd', y='coin', palette='Oranges_r')\n"
     ]
    },
    {
     "data": {
      "image/png": "[encoded data removed]",
      "text/plain": [
       "<Figure size 1400x600 with 2 Axes>"
      ]
     },
     "metadata": {},
     "output_type": "display_data"
    }
   ],
   "source": [
    "top10_fear = coin_volume[coin_volume['classification'] == 'Fear'].nlargest(10, 'size_usd')\n",
    "top10_greed = coin_volume[coin_volume['classification'] == 'Greed'].nlargest(10, 'size_usd')\n",
    "\n",
    "fig, axes = plt.subplots(1, 2, figsize=(14,6), sharey=True)\n",
    "\n",
    "sns.barplot(ax=axes[0], data=top10_fear, x='size_usd', y='coin', palette='Blues_r')\n",
    "axes[0].set_title('Top 10 Coins by Volume - Fear Days')\n",
    "axes[0].set_xlabel('Total Volume (USD)')\n",
    "\n",
    "sns.barplot(ax=axes[1], data=top10_greed, x='size_usd', y='coin', palette='Oranges_r')\n",
    "axes[1].set_title('Top 10 Coins by Volume - Greed Days')\n",
    "axes[1].set_xlabel('Total Volume (USD)')\n",
    "\n",
    "plt.tight_layout()\n",
    "plt.savefig('outputs/top10_coins_by_sentiment.png', bbox_inches='tight')\n",
    "plt.show()\n"
   ]
  },
  {
   "cell_type": "code",
   "execution_count": null,
   "id": "ad0d5caf",
   "metadata": {},
   "outputs": [],
   "source": []
  }
 ],
 "metadata": {
  "kernelspec": {
   "display_name": "base",
   "language": "python",
   "name": "python3"
  },
  "language_info": {
   "codemirror_mode": {
    "name": "ipython",
    "version": 3
   },
   "file_extension": ".py",
   "mimetype": "text/x-python",
   "name": "python",
   "nbconvert_exporter": "python",
   "pygments_lexer": "ipython3",
   "version": "3.12.7"
  }
 },
 "nbformat": 4,
 "nbformat_minor": 5
}
